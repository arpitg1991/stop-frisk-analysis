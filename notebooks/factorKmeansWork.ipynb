{
 "metadata": {
  "name": ""
 },
 "nbformat": 3,
 "nbformat_minor": 0,
 "worksheets": [
  {
   "cells": [
    {
     "cell_type": "code",
     "collapsed": false,
     "input": [
      "f = '../data/acsTract.csv'"
     ],
     "language": "python",
     "metadata": {},
     "outputs": [],
     "prompt_number": 1
    },
    {
     "cell_type": "code",
     "collapsed": false,
     "input": [
      "import pandas as pd\n",
      "import numpy as np"
     ],
     "language": "python",
     "metadata": {},
     "outputs": [],
     "prompt_number": 2
    },
    {
     "cell_type": "code",
     "collapsed": false,
     "input": [
      "df = pd.read_csv(f, sep = ',')"
     ],
     "language": "python",
     "metadata": {},
     "outputs": [],
     "prompt_number": 3
    },
    {
     "cell_type": "code",
     "collapsed": false,
     "input": [
      "df.columns"
     ],
     "language": "python",
     "metadata": {},
     "outputs": [
      {
       "metadata": {},
       "output_type": "pyout",
       "prompt_number": 181,
       "text": [
        "Index([BoroCT2010, ACS_n_household, ACS_p_white, ACS_p_black, ACS_p_american_indian, ACS_p_asian, ACS_p_hawaiian, ACS_p_other_race, ACS_p_two_races, ACS_p_hispanic, ACS_p_edu_less_HS, ACS_p_edu_grad_HS, ACS_p_edu_associate_degree, ACS_p_edu_bachelor_degree, ACS_p_edu_graduate_degree, ACS_p_US_citizen, ACS_p_home_lang_english, ACS_p_home_lang_spanish, ACS_p_home_lang_other, ACS_p_no_income_indv, ACS_p_pop_poverty, ACS_p_unemployed, ACS_p_civilian_labor_force, ACS_p_income_indv_1to9999, ACS_p_income_indv_10000to14999, ACS_p_income_indv_15000to24999, ACS_p_income_indv_25000to34999, ACS_p_income_indv_35000to49999, ACS_p_income_indv_50000to64999, ACS_p_income_indv_65000to74999, ACS_p_income_indv_75000ormore, ACS_p_house_social_security, ACS_p_house_supplemental_security, ACS_p_house_public_assistance, ACS_p_house_SNAP, ACS_avg_per_capita_income, ACS_p_house_food_stamps, PCT, noOfStops, ACS_p_otherRaces, someEdu, collegeDegree], dtype=object)"
       ]
      }
     ],
     "prompt_number": 181
    },
    {
     "cell_type": "code",
     "collapsed": false,
     "input": [
      "from sklearn.decomposition import FactorAnalysis "
     ],
     "language": "python",
     "metadata": {},
     "outputs": [],
     "prompt_number": 5
    },
    {
     "cell_type": "code",
     "collapsed": false,
     "input": [
      "numComponents = 4"
     ],
     "language": "python",
     "metadata": {},
     "outputs": [],
     "prompt_number": 6
    },
    {
     "cell_type": "code",
     "collapsed": false,
     "input": [
      "featureList = ['ACS_p_white', 'ACS_p_black', 'ACS_p_hispanic', 'ACS_p_otherRaces', \n",
      "               'ACS_p_edu_less_HS', 'someEdu', 'collegeDegree',\n",
      "               'ACS_p_US_citizen', 'ACS_p_pop_poverty', 'ACS_p_unemployed',\n",
      "               'ACS_avg_per_capita_income', 'ACS_p_house_food_stamps', 'ACS_n_household', 'PCT']"
     ],
     "language": "python",
     "metadata": {},
     "outputs": [],
     "prompt_number": 73
    },
    {
     "cell_type": "code",
     "collapsed": false,
     "input": [
      "df2 = df[featureList]"
     ],
     "language": "python",
     "metadata": {},
     "outputs": [],
     "prompt_number": 77
    },
    {
     "cell_type": "code",
     "collapsed": false,
     "input": [
      "pct_df = df2.groupby(by = 'PCT').mean()"
     ],
     "language": "python",
     "metadata": {},
     "outputs": [],
     "prompt_number": 136
    },
    {
     "cell_type": "code",
     "collapsed": false,
     "input": [
      "pct_df"
     ],
     "language": "python",
     "metadata": {},
     "outputs": [
      {
       "html": [
        "<pre>\n",
        "&ltclass 'pandas.core.frame.DataFrame'&gt\n",
        "Int64Index: 75 entries, 1 to 123\n",
        "Data columns (total 13 columns):\n",
        "ACS_p_white                  75  non-null values\n",
        "ACS_p_black                  75  non-null values\n",
        "ACS_p_hispanic               75  non-null values\n",
        "ACS_p_otherRaces             75  non-null values\n",
        "ACS_p_edu_less_HS            75  non-null values\n",
        "someEdu                      75  non-null values\n",
        "collegeDegree                75  non-null values\n",
        "ACS_p_US_citizen             75  non-null values\n",
        "ACS_p_pop_poverty            75  non-null values\n",
        "ACS_p_unemployed             75  non-null values\n",
        "ACS_avg_per_capita_income    75  non-null values\n",
        "ACS_p_house_food_stamps      75  non-null values\n",
        "ACS_n_household              75  non-null values\n",
        "dtypes: float64(13)\n",
        "</pre>"
       ],
       "metadata": {},
       "output_type": "pyout",
       "prompt_number": 137,
       "text": [
        "<class 'pandas.core.frame.DataFrame'>\n",
        "Int64Index: 75 entries, 1 to 123\n",
        "Data columns (total 13 columns):\n",
        "ACS_p_white                  75  non-null values\n",
        "ACS_p_black                  75  non-null values\n",
        "ACS_p_hispanic               75  non-null values\n",
        "ACS_p_otherRaces             75  non-null values\n",
        "ACS_p_edu_less_HS            75  non-null values\n",
        "someEdu                      75  non-null values\n",
        "collegeDegree                75  non-null values\n",
        "ACS_p_US_citizen             75  non-null values\n",
        "ACS_p_pop_poverty            75  non-null values\n",
        "ACS_p_unemployed             75  non-null values\n",
        "ACS_avg_per_capita_income    75  non-null values\n",
        "ACS_p_house_food_stamps      75  non-null values\n",
        "ACS_n_household              75  non-null values\n",
        "dtypes: float64(13)"
       ]
      }
     ],
     "prompt_number": 137
    },
    {
     "cell_type": "code",
     "collapsed": false,
     "input": [
      "fa = FactorAnalysis(n_components= 3).fit(X)\n",
      "componentMatrix = fa.components_ "
     ],
     "language": "python",
     "metadata": {},
     "outputs": [],
     "prompt_number": 132
    },
    {
     "cell_type": "code",
     "collapsed": false,
     "input": [
      "fa.noise_variance_"
     ],
     "language": "python",
     "metadata": {},
     "outputs": [
      {
       "metadata": {},
       "output_type": "pyout",
       "prompt_number": 133,
       "text": [
        "array([ 146.17761988,    4.38527655,  222.01032192,  134.64460236,\n",
        "         40.78278195,   42.76566415,   55.1121587 ,   35.46810322,\n",
        "          9.03492558,    2.00320616,    1.00066638,   71.55024738,\n",
        "          1.14195643])"
       ]
      }
     ],
     "prompt_number": 133
    },
    {
     "cell_type": "code",
     "collapsed": false,
     "input": [
      "comps = pd.DataFrame(componentMatrix).T"
     ],
     "language": "python",
     "metadata": {},
     "outputs": [],
     "prompt_number": 134
    },
    {
     "cell_type": "code",
     "collapsed": false,
     "input": [
      "comps.index = pct_df.columns\n",
      "comps"
     ],
     "language": "python",
     "metadata": {},
     "outputs": [
      {
       "html": [
        "<div style=\"max-height:1000px;max-width:1500px;overflow:auto;\">\n",
        "<table border=\"1\" class=\"dataframe\">\n",
        "  <thead>\n",
        "    <tr style=\"text-align: right;\">\n",
        "      <th></th>\n",
        "      <th>0</th>\n",
        "      <th>1</th>\n",
        "      <th>2</th>\n",
        "    </tr>\n",
        "  </thead>\n",
        "  <tbody>\n",
        "    <tr>\n",
        "      <th>ACS_p_white</th>\n",
        "      <td>   -16.144601</td>\n",
        "      <td>   2.135858</td>\n",
        "      <td>-15.338070</td>\n",
        "    </tr>\n",
        "    <tr>\n",
        "      <th>ACS_p_black</th>\n",
        "      <td>    11.084868</td>\n",
        "      <td>   0.387433</td>\n",
        "      <td> 22.869165</td>\n",
        "    </tr>\n",
        "    <tr>\n",
        "      <th>ACS_p_hispanic</th>\n",
        "      <td>     9.974623</td>\n",
        "      <td>  -7.117729</td>\n",
        "      <td> -4.478689</td>\n",
        "    </tr>\n",
        "    <tr>\n",
        "      <th>ACS_p_otherRaces</th>\n",
        "      <td>     5.076479</td>\n",
        "      <td>  -1.907127</td>\n",
        "      <td> -7.580312</td>\n",
        "    </tr>\n",
        "    <tr>\n",
        "      <th>ACS_p_edu_less_HS</th>\n",
        "      <td>     7.922790</td>\n",
        "      <td>  -2.495567</td>\n",
        "      <td> -0.909378</td>\n",
        "    </tr>\n",
        "    <tr>\n",
        "      <th>someEdu</th>\n",
        "      <td>    10.700832</td>\n",
        "      <td>   2.735192</td>\n",
        "      <td>  2.649529</td>\n",
        "    </tr>\n",
        "    <tr>\n",
        "      <th>collegeDegree</th>\n",
        "      <td>   -18.623623</td>\n",
        "      <td>  -0.239625</td>\n",
        "      <td> -1.740151</td>\n",
        "    </tr>\n",
        "    <tr>\n",
        "      <th>ACS_p_US_citizen</th>\n",
        "      <td>    -2.266429</td>\n",
        "      <td>   0.589437</td>\n",
        "      <td>  1.522185</td>\n",
        "    </tr>\n",
        "    <tr>\n",
        "      <th>ACS_p_pop_poverty</th>\n",
        "      <td>     0.506842</td>\n",
        "      <td>   0.211983</td>\n",
        "      <td>  0.174157</td>\n",
        "    </tr>\n",
        "    <tr>\n",
        "      <th>ACS_p_unemployed</th>\n",
        "      <td>     0.968303</td>\n",
        "      <td>  -0.400113</td>\n",
        "      <td>  0.722785</td>\n",
        "    </tr>\n",
        "    <tr>\n",
        "      <th>ACS_avg_per_capita_income</th>\n",
        "      <td>-25560.663458</td>\n",
        "      <td>   8.306888</td>\n",
        "      <td>  0.002289</td>\n",
        "    </tr>\n",
        "    <tr>\n",
        "      <th>ACS_p_house_food_stamps</th>\n",
        "      <td>     7.919346</td>\n",
        "      <td>  -3.867424</td>\n",
        "      <td>  1.775602</td>\n",
        "    </tr>\n",
        "    <tr>\n",
        "      <th>ACS_n_household</th>\n",
        "      <td>  -491.059349</td>\n",
        "      <td>-493.442696</td>\n",
        "      <td>  0.004832</td>\n",
        "    </tr>\n",
        "  </tbody>\n",
        "</table>\n",
        "</div>"
       ],
       "metadata": {},
       "output_type": "pyout",
       "prompt_number": 135,
       "text": [
        "                                      0           1          2\n",
        "ACS_p_white                  -16.144601    2.135858 -15.338070\n",
        "ACS_p_black                   11.084868    0.387433  22.869165\n",
        "ACS_p_hispanic                 9.974623   -7.117729  -4.478689\n",
        "ACS_p_otherRaces               5.076479   -1.907127  -7.580312\n",
        "ACS_p_edu_less_HS              7.922790   -2.495567  -0.909378\n",
        "someEdu                       10.700832    2.735192   2.649529\n",
        "collegeDegree                -18.623623   -0.239625  -1.740151\n",
        "ACS_p_US_citizen              -2.266429    0.589437   1.522185\n",
        "ACS_p_pop_poverty              0.506842    0.211983   0.174157\n",
        "ACS_p_unemployed               0.968303   -0.400113   0.722785\n",
        "ACS_avg_per_capita_income -25560.663458    8.306888   0.002289\n",
        "ACS_p_house_food_stamps        7.919346   -3.867424   1.775602\n",
        "ACS_n_household             -491.059349 -493.442696   0.004832"
       ]
      }
     ],
     "prompt_number": 135
    },
    {
     "cell_type": "code",
     "collapsed": false,
     "input": [
      "comps.to_csv('factors.csv',sep = ',')"
     ],
     "language": "python",
     "metadata": {},
     "outputs": [],
     "prompt_number": 120
    },
    {
     "cell_type": "code",
     "collapsed": false,
     "input": [
      "X_transformed = fa.transform(X)"
     ],
     "language": "python",
     "metadata": {},
     "outputs": [],
     "prompt_number": 121
    },
    {
     "cell_type": "code",
     "collapsed": false,
     "input": [
      "factored = pd.DataFrame(X_transformed)"
     ],
     "language": "python",
     "metadata": {},
     "outputs": [],
     "prompt_number": 122
    },
    {
     "cell_type": "code",
     "collapsed": false,
     "input": [
      "factored.to_csv('factoredX.csv', sep = ',')"
     ],
     "language": "python",
     "metadata": {},
     "outputs": [],
     "prompt_number": 123
    },
    {
     "cell_type": "code",
     "collapsed": false,
     "input": [
      "from sklearn.cluster import KMeans"
     ],
     "language": "python",
     "metadata": {},
     "outputs": [],
     "prompt_number": 124
    },
    {
     "cell_type": "code",
     "collapsed": false,
     "input": [
      "# collapse into precinct dataset--- +++ crime a"
     ],
     "language": "python",
     "metadata": {},
     "outputs": [],
     "prompt_number": 125
    },
    {
     "cell_type": "code",
     "collapsed": false,
     "input": [
      "X_normalized = X_transformed\n",
      "for i in range(0, X_normalized.shape[1]):\n",
      "    X_normalized[:,i] = X_normalized[:,i] / X_normalized[:,i].std()"
     ],
     "language": "python",
     "metadata": {},
     "outputs": [],
     "prompt_number": 126
    },
    {
     "cell_type": "code",
     "collapsed": false,
     "input": [
      "kmeans = KMeans(n_clusters=3, init='k-means++', n_init=10, max_iter=800, \n",
      "          tol=0.0001, precompute_distances=True, verbose=0, random_state=123, copy_x=True, n_jobs=2)"
     ],
     "language": "python",
     "metadata": {},
     "outputs": [],
     "prompt_number": 127
    },
    {
     "cell_type": "code",
     "collapsed": false,
     "input": [
      "pct_df.iloc[:,[1,4,9]]"
     ],
     "language": "python",
     "metadata": {},
     "outputs": [
      {
       "html": [
        "<pre>\n",
        "&ltclass 'pandas.core.frame.DataFrame'&gt\n",
        "Int64Index: 75 entries, 1 to 123\n",
        "Data columns (total 3 columns):\n",
        "ACS_p_black          75  non-null values\n",
        "ACS_p_edu_less_HS    75  non-null values\n",
        "ACS_p_unemployed     75  non-null values\n",
        "dtypes: float64(3)\n",
        "</pre>"
       ],
       "metadata": {},
       "output_type": "pyout",
       "prompt_number": 139,
       "text": [
        "<class 'pandas.core.frame.DataFrame'>\n",
        "Int64Index: 75 entries, 1 to 123\n",
        "Data columns (total 3 columns):\n",
        "ACS_p_black          75  non-null values\n",
        "ACS_p_edu_less_HS    75  non-null values\n",
        "ACS_p_unemployed     75  non-null values\n",
        "dtypes: float64(3)"
       ]
      }
     ],
     "prompt_number": 139
    },
    {
     "cell_type": "code",
     "collapsed": false,
     "input": [
      "x = pct_df.iloc[:,[1,4,9]].values"
     ],
     "language": "python",
     "metadata": {},
     "outputs": [],
     "prompt_number": 153
    },
    {
     "cell_type": "code",
     "collapsed": false,
     "input": [
      "for i in range(0, 2):\n",
      "    x[:,i] = x[:,i] / x[:,i].std()"
     ],
     "language": "python",
     "metadata": {},
     "outputs": [],
     "prompt_number": 172
    },
    {
     "cell_type": "code",
     "collapsed": false,
     "input": [
      "kmeans.fit(x)"
     ],
     "language": "python",
     "metadata": {},
     "outputs": [
      {
       "metadata": {},
       "output_type": "pyout",
       "prompt_number": 173,
       "text": [
        "KMeans(copy_x=True, init='k-means++', max_iter=800, n_clusters=3, n_init=10,\n",
        "    n_jobs=2, precompute_distances=True, random_state=123, tol=0.0001,\n",
        "    verbose=0)"
       ]
      }
     ],
     "prompt_number": 173
    },
    {
     "cell_type": "code",
     "collapsed": false,
     "input": [
      "X_labels = kmeans.predict(x)"
     ],
     "language": "python",
     "metadata": {},
     "outputs": [],
     "prompt_number": 174
    },
    {
     "cell_type": "code",
     "collapsed": false,
     "input": [
      "scatter(x[:,1], x[:,2], c = X_labels)"
     ],
     "language": "python",
     "metadata": {},
     "outputs": [
      {
       "metadata": {},
       "output_type": "pyout",
       "prompt_number": 180,
       "text": [
        "<matplotlib.collections.PathCollection at 0x10d0bf410>"
       ]
      },
      {
       "metadata": {},
       "output_type": "display_data",
       "png": "[encoded data removed]",
       "text": [
        "<matplotlib.figure.Figure at 0x10cbe8310>"
       ]
      }
     ],
     "prompt_number": 180
    },
    {
     "cell_type": "code",
     "collapsed": false,
     "input": [
      "    "
     ],
     "language": "python",
     "metadata": {},
     "outputs": []
    }
   ],
   "metadata": {}
  }
 ]
}